{
 "cells": [
  {
   "cell_type": "markdown",
   "metadata": {},
   "source": [
    "# Imports"
   ]
  },
  {
   "cell_type": "code",
   "execution_count": 1,
   "metadata": {},
   "outputs": [],
   "source": [
    "# ! conda install -c conda-forge gym \n",
    "import gym\n",
    "from A2C.a2c_discrete import DiscreteA2C\n",
    "from A2C.a2c_continuos import ContinuousA2C\n",
    "from A2C.a2c_networks import A2CContinuousNetwork1 , A2CDiscreteNetwork1\n"
   ]
  },
  {
   "cell_type": "markdown",
   "metadata": {},
   "source": [
    "# Create environments and display environment properties"
   ]
  },
  {
   "cell_type": "code",
   "execution_count": 2,
   "metadata": {},
   "outputs": [
    {
     "name": "stdout",
     "output_type": "stream",
     "text": [
      "MountainCar-v0 3 2\n",
      "MountainCarContinuous-v0 1 2\n",
      "CartPole-v1 2 4\n",
      "LunarLander-v2 4 8\n",
      "LunarLanderContinuous-v2 2 8\n"
     ]
    }
   ],
   "source": [
    "mc_discrete_name = 'MountainCar-v0'\n",
    "mc_discrete = gym.make(mc_discrete_name)\n",
    "\n",
    "mc_continuous_name = 'MountainCarContinuous-v0'\n",
    "mc_continuous = gym.make(mc_continuous_name)\n",
    "\n",
    "cp_discrete_name = 'CartPole-v1'\n",
    "cp_discrete = gym.make(cp_discrete_name)\n",
    "\n",
    "ll_discrete_name = 'LunarLander-v2'\n",
    "ll_discrete = gym.make(ll_discrete_name)\n",
    "\n",
    "ll_continuous_name = 'LunarLanderContinuous-v2'\n",
    "ll_continuous = gym.make(ll_continuous_name)\n",
    "\n",
    "envs = {\n",
    "    \"mcd\": {\n",
    "        'name': mc_discrete_name,\n",
    "        'env': mc_discrete,\n",
    "        'actions_count': mc_discrete.action_space.n,\n",
    "        \"state_dim\": len(mc_discrete.reset())\n",
    "    },\n",
    "    \"mcc\": {\n",
    "        \"name\": mc_continuous_name,\n",
    "        \"env\": mc_continuous,\n",
    "        \"actions_count\": len(mc_continuous.action_space.shape),\n",
    "        \"state_dim\": len(mc_continuous.reset())\n",
    "    },\n",
    "    \"cpd\":  {\n",
    "        \"name\": cp_discrete_name,\n",
    "        \"env\": cp_discrete,\n",
    "        \"actions_count\": cp_discrete.action_space.n,\n",
    "        \"state_dim\": len(cp_discrete.reset())\n",
    "    },\n",
    "    \"lld\": {\n",
    "        \"name\": ll_discrete_name,\n",
    "        \"env\": ll_discrete,\n",
    "        \"actions_count\": ll_discrete.action_space.n,\n",
    "        \"state_dim\": len(ll_discrete.reset())\n",
    "    },\n",
    "    \"llc\": {\n",
    "        \"name\": ll_continuous_name,\n",
    "        \"env\": ll_continuous,\n",
    "        \"actions_count\": len(ll_continuous.action_space.shape) + 1,\n",
    "        \"state_dim\": len(ll_continuous.reset())\n",
    "    }\n",
    "}\n",
    "\n",
    "for env in envs:\n",
    "    print(envs[env]['name'], envs[env]\n",
    "          ['actions_count'], envs[env]['state_dim'])\n"
   ]
  },
  {
   "cell_type": "markdown",
   "metadata": {},
   "source": [
    "# Shared parameters"
   ]
  },
  {
   "cell_type": "code",
   "execution_count": 3,
   "metadata": {},
   "outputs": [],
   "source": [
    "EPISODES = 5000"
   ]
  },
  {
   "cell_type": "markdown",
   "metadata": {},
   "source": [
    "# Initialization of A2C"
   ]
  },
  {
   "cell_type": "code",
   "execution_count": 4,
   "metadata": {},
   "outputs": [
    {
     "name": "stdout",
     "output_type": "stream",
     "text": [
      "Device:  cuda \n",
      "Tensor:  <class 'torch.cuda.FloatTensor'>\n",
      "Model not found\n",
      "No progress found\n"
     ]
    }
   ],
   "source": [
    "A2C_NAME = \"a2c_benchmark\"\n",
    "A2C_ID = 0\n",
    "NUM_ENVS = 20\n",
    "ENV_STEPS = 10\n",
    "\n",
    "\n",
    "a2c_network = A2CDiscreteNetwork1(state_dim=envs[\"lld\"][\"state_dim\"], actions_count=envs[\"lld\"][\"actions_count\"])\n",
    "a2c_agent = DiscreteA2C(model_name=A2C_NAME, id=A2C_ID, model=a2c_network, lr=0.0001)\n",
    "\n",
    "# Create environments\n",
    "train_envs = []\n",
    "for id_e in range(NUM_ENVS):\n",
    "    env = gym.make(envs[\"lld\"][\"name\"])\n",
    "    env.seed(id_e)\n",
    "    train_envs.append(env)\n",
    "    \n",
    "# Load model (if we trained with interruptions)\n",
    "a2c_agent.load_model()\n",
    "a2c_agent.load_progress()\n"
   ]
  },
  {
   "cell_type": "markdown",
   "metadata": {},
   "source": [
    "# Training"
   ]
  },
  {
   "cell_type": "code",
   "execution_count": 5,
   "metadata": {},
   "outputs": [
    {
     "data": {
      "application/vnd.jupyter.widget-view+json": {
       "model_id": "ec8236cd70f3475ebb5191ba039f84cc",
       "version_major": 2,
       "version_minor": 0
      },
      "text/plain": [
       "Episodes:   0%|          | 0/5000 [00:00<?, ?it/s]"
      ]
     },
     "metadata": {},
     "output_type": "display_data"
    },
    {
     "name": "stdout",
     "output_type": "stream",
     "text": [
      "Saving model, best score is:  4.5842640557254795\n",
      "Saving model, best score is:  7.8379401437326415\n",
      "Saving model, best score is:  10.70561188688619\n",
      "Saving model, best score is:  19.671288193483313\n",
      "Saving model, best score is:  31.761136468688473\n",
      "Saving model, best score is:  37.84549413280158\n",
      "Saving model, best score is:  52.58604924618801\n",
      "Saving model, best score is:  57.85871184451114\n",
      "Saving model, best score is:  65.309704211724\n",
      "Saving model, best score is:  70.62880467790833\n",
      "Saving model, best score is:  72.87544707947643\n",
      "Saving model, best score is:  84.65071208093792\n",
      "Saving model, best score is:  105.1396254279201\n",
      "Saving model, best score is:  126.67028908126098\n",
      "Saving model, best score is:  132.00819561082957\n"
     ]
    }
   ],
   "source": [
    "a2c_agent.train(envs=train_envs, total_episodes=EPISODES, steps=ENV_STEPS)    "
   ]
  },
  {
   "cell_type": "code",
   "execution_count": 6,
   "metadata": {},
   "outputs": [
    {
     "data": {
      "text/html": [
       "\n",
       "      <iframe id=\"tensorboard-frame-ad994bf01ffbdae5\" width=\"100%\" height=\"800\" frameborder=\"0\">\n",
       "      </iframe>\n",
       "      <script>\n",
       "        (function() {\n",
       "          const frame = document.getElementById(\"tensorboard-frame-ad994bf01ffbdae5\");\n",
       "          const url = new URL(\"/\", window.location);\n",
       "          const port = 9000;\n",
       "          if (port) {\n",
       "            url.port = port;\n",
       "          }\n",
       "          frame.src = url;\n",
       "        })();\n",
       "      </script>\n",
       "    "
      ],
      "text/plain": [
       "<IPython.core.display.HTML object>"
      ]
     },
     "metadata": {},
     "output_type": "display_data"
    }
   ],
   "source": [
    "%reload_ext tensorboard\n",
    "%tensorboard --logdir runs --host localhost --port 9000"
   ]
  }
 ],
 "metadata": {
  "interpreter": {
   "hash": "57c3aebcd5e1e99d1a9474ded8cb88a20ae7577c393a0a831db5f19309df275b"
  },
  "kernelspec": {
   "display_name": "Python 3.9.7 ('Mine')",
   "language": "python",
   "name": "python3"
  },
  "language_info": {
   "codemirror_mode": {
    "name": "ipython",
    "version": 3
   },
   "file_extension": ".py",
   "mimetype": "text/x-python",
   "name": "python",
   "nbconvert_exporter": "python",
   "pygments_lexer": "ipython3",
   "version": "3.9.7"
  },
  "orig_nbformat": 4
 },
 "nbformat": 4,
 "nbformat_minor": 2
}
