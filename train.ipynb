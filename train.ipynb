{
 "cells": [
  {
   "cell_type": "markdown",
   "metadata": {},
   "source": [
    "# Imports"
   ]
  },
  {
   "cell_type": "code",
   "execution_count": 1,
   "metadata": {},
   "outputs": [],
   "source": [
    "# ! conda install -c conda-forge pytorch-model-summary \n",
    "# ! conda install -c conda-forge gym \n",
    "from torchsummary import summary\n",
    "import gym\n",
    "import torch.nn.functional as F\n",
    "from A2C.a2c_agents import AgentA2C\n",
    "from A2C.a2c_networks import Network1\n",
    "from A2C.workers import Worker\n",
    "import keyboard\n",
    "import torch.utils.tensorboard\n"
   ]
  },
  {
   "cell_type": "markdown",
   "metadata": {},
   "source": [
    "# Create environments and display environment properties"
   ]
  },
  {
   "cell_type": "code",
   "execution_count": 2,
   "metadata": {},
   "outputs": [
    {
     "name": "stdout",
     "output_type": "stream",
     "text": [
      "MountainCar-v0:  actions:  3 observation:  2\n",
      "MountainCarContinuous-v0:  actions:  Box([-1.], [1.], (1,), float32) observation:  2\n",
      "CartPole-v1:  actions:  2 observation:  4\n",
      "LunarLander-v2:  actions:  4 observation:  8\n",
      "LunarLanderContinuous-v2:  actions:  Box([-1. -1.], [1. 1.], (2,), float32) observation:  8\n"
     ]
    }
   ],
   "source": [
    "mc_discrete_name = 'MountainCar-v0'\n",
    "mc_discrete = gym.make(mc_discrete_name)\n",
    "print(\"MountainCar-v0: \", \"actions: \", mc_discrete.action_space.n, \"observation: \", len(mc_discrete.reset()))  \n",
    "\n",
    "mc_continuous_name = 'MountainCarContinuous-v0'\n",
    "mc_continuous = gym.make(mc_continuous_name)\n",
    "print(\"MountainCarContinuous-v0: \", \"actions: \", mc_continuous.action_space, \"observation: \", len(mc_continuous.reset()))  \n",
    "\n",
    "cp_discrete_name = 'CartPole-v1'\n",
    "cp_discrete = gym.make(cp_discrete_name)\n",
    "print(\"CartPole-v1: \", \"actions: \", cp_discrete.action_space.n, \"observation: \", len(cp_discrete.reset()))  \n",
    "\n",
    "ll_discrete_name = 'LunarLander-v2'\n",
    "ll_discrete = gym.make(ll_discrete_name)\n",
    "print(\"LunarLander-v2: \", \"actions: \", ll_discrete.action_space.n, \"observation: \", len(ll_discrete.reset()))  \n",
    "\n",
    "ll_continuous_name = 'LunarLanderContinuous-v2'\n",
    "ll_continuous = gym.make(ll_continuous_name)\n",
    "print(\"LunarLanderContinuous-v2: \", \"actions: \", ll_continuous.action_space, \"observation: \", len(ll_continuous.reset()))  \n",
    "\n",
    "envs = {\n",
    "    mc_discrete_name: mc_discrete,\n",
    "    mc_continuous_name: mc_continuous,\n",
    "    cp_discrete_name: cp_discrete,\n",
    "    ll_discrete_name: ll_discrete,\n",
    "    ll_continuous_name: ll_continuous\n",
    "}"
   ]
  },
  {
   "cell_type": "markdown",
   "metadata": {},
   "source": [
    "# Shared parameters"
   ]
  },
  {
   "cell_type": "code",
   "execution_count": 3,
   "metadata": {},
   "outputs": [],
   "source": [
    "EPISODES = 5000"
   ]
  },
  {
   "cell_type": "markdown",
   "metadata": {},
   "source": [
    "# Initialization of A2C"
   ]
  },
  {
   "cell_type": "code",
   "execution_count": 4,
   "metadata": {},
   "outputs": [
    {
     "name": "stdout",
     "output_type": "stream",
     "text": [
      "Device:  cuda:0\n"
     ]
    }
   ],
   "source": [
    "A2C_NAME = \"test1\"\n",
    "A2C_ID = 1\n",
    "N_ACTIONS =  envs[ll_discrete_name].action_space.n\n",
    "STATE_DIM = len(envs[ll_discrete_name].reset())\n",
    "LEN_WORKERS = 20\n",
    "ENV_STEPS = 15\n",
    "\n",
    "\n",
    "a2c_network = Network1(state_dim=STATE_DIM, actions_count=N_ACTIONS)\n",
    "a2c_agent = AgentA2C(model_name=A2C_NAME, id=A2C_ID, model=a2c_network)\n",
    "\n",
    "# Create workers and environments\n",
    "workers = []\n",
    "for id_w in range(LEN_WORKERS):\n",
    "    env = gym.make(ll_discrete_name)\n",
    "    env.seed(id_w)\n",
    "    w = Worker(id_w, env, a2c_agent, print_score=False)\n",
    "    workers.append(w)\n",
    "\n",
    "# Load model (if we trained with interruptions)\n",
    "a2c_agent.load_model()\n",
    "a2c_agent.load_progress()\n"
   ]
  },
  {
   "cell_type": "markdown",
   "metadata": {},
   "source": [
    "# Training"
   ]
  },
  {
   "cell_type": "code",
   "execution_count": 5,
   "metadata": {},
   "outputs": [],
   "source": [
    "a2c_agent.train(workers=workers, total_episodes=EPISODES, steps=ENV_STEPS)    \n",
    "a2c_agent.save_progress()\n",
    "a2c_agent.save_model()"
   ]
  },
  {
   "cell_type": "code",
   "execution_count": 6,
   "metadata": {},
   "outputs": [
    {
     "data": {
      "text/plain": [
       "Reusing TensorBoard on port 8888 (pid 13188), started 1:36:05 ago. (Use '!kill 13188' to kill it.)"
      ]
     },
     "metadata": {},
     "output_type": "display_data"
    },
    {
     "data": {
      "text/html": [
       "\n",
       "      <iframe id=\"tensorboard-frame-cd4a1958cd4d1e3\" width=\"100%\" height=\"800\" frameborder=\"0\">\n",
       "      </iframe>\n",
       "      <script>\n",
       "        (function() {\n",
       "          const frame = document.getElementById(\"tensorboard-frame-cd4a1958cd4d1e3\");\n",
       "          const url = new URL(\"http://localhost\");\n",
       "          const port = 8888;\n",
       "          if (port) {\n",
       "            url.port = port;\n",
       "          }\n",
       "          frame.src = url;\n",
       "        })();\n",
       "      </script>\n",
       "    "
      ],
      "text/plain": [
       "<IPython.core.display.HTML object>"
      ]
     },
     "metadata": {},
     "output_type": "display_data"
    }
   ],
   "source": [
    "%reload_ext tensorboard\n",
    "%tensorboard --logdir runs --host localhost --port 8888"
   ]
  },
  {
   "cell_type": "markdown",
   "metadata": {},
   "source": [
    "# Evaluation"
   ]
  },
  {
   "cell_type": "code",
   "execution_count": 7,
   "metadata": {},
   "outputs": [],
   "source": [
    "obs = envs[ll_discrete_name].reset()\n",
    "while(True):\n",
    "    envs[ll_discrete_name].render()\n",
    "    actor_prob, _ = a2c_agent.act(obs)\n",
    "    step_probs = F.softmax(actor_prob, dim=-1)\n",
    "    step_actions = step_probs.multinomial(num_samples=1)\n",
    "    obs, _, term, _ = envs[ll_discrete_name].step(step_actions.item())\n",
    "\n",
    "    if term:\n",
    "        obs = envs[ll_discrete_name].reset()\n",
    "\n",
    "    if keyboard.is_pressed('Tab'):\n",
    "        break\n",
    "\n",
    "envs[ll_discrete_name].close()"
   ]
  }
 ],
 "metadata": {
  "interpreter": {
   "hash": "57c3aebcd5e1e99d1a9474ded8cb88a20ae7577c393a0a831db5f19309df275b"
  },
  "kernelspec": {
   "display_name": "Python 3.9.7 ('Mine')",
   "language": "python",
   "name": "python3"
  },
  "language_info": {
   "codemirror_mode": {
    "name": "ipython",
    "version": 3
   },
   "file_extension": ".py",
   "mimetype": "text/x-python",
   "name": "python",
   "nbconvert_exporter": "python",
   "pygments_lexer": "ipython3",
   "version": "3.9.7"
  },
  "orig_nbformat": 4
 },
 "nbformat": 4,
 "nbformat_minor": 2
}
