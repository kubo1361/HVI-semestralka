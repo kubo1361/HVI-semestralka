{
 "cells": [
  {
   "cell_type": "markdown",
   "metadata": {},
   "source": [
    "# Imports"
   ]
  },
  {
   "cell_type": "code",
   "execution_count": 1,
   "metadata": {},
   "outputs": [],
   "source": [
    "# ! conda install -c conda-forge gym \n",
    "import gym\n",
    "from A2C.a2c_discrete import DiscreteA2C\n",
    "from A2C.a2c_continuos import ContinuousA2C\n",
    "from A2C.a2c_networks import A2CDB, A2CCB, A2CDRBF1NA, A2CDRBF1A, A2CCRBF1NA, A2CCRBF1A, A2CCRBF, A2CDRBF\n"
   ]
  },
  {
   "cell_type": "markdown",
   "metadata": {},
   "source": [
    "# Create environments"
   ]
  },
  {
   "cell_type": "code",
   "execution_count": 2,
   "metadata": {},
   "outputs": [],
   "source": [
    "mc_discrete_name = 'MountainCar-v0'\n",
    "mc_discrete = gym.make(mc_discrete_name)\n",
    "\n",
    "mc_continuous_name = 'MountainCarContinuous-v0'\n",
    "mc_continuous = gym.make(mc_continuous_name)\n",
    "\n",
    "cp_discrete_name = 'CartPole-v1'\n",
    "cp_discrete = gym.make(cp_discrete_name)\n",
    "\n",
    "ll_discrete_name = 'LunarLander-v2'\n",
    "ll_discrete = gym.make(ll_discrete_name)\n",
    "\n",
    "ll_continuous_name = 'LunarLanderContinuous-v2'\n",
    "ll_continuous = gym.make(ll_continuous_name)\n",
    "\n",
    "envs_discrete = [\n",
    "    {\n",
    "        'name': mc_discrete_name,\n",
    "        'actions_count': mc_discrete.action_space.n,\n",
    "        \"state_dim\": len(mc_discrete.reset())\n",
    "    },\n",
    "    {\n",
    "        \"name\": cp_discrete_name,\n",
    "        \"actions_count\": cp_discrete.action_space.n,\n",
    "        \"state_dim\": len(cp_discrete.reset())\n",
    "    },\n",
    "    {\n",
    "        \"name\": ll_discrete_name,\n",
    "        \"actions_count\": ll_discrete.action_space.n,\n",
    "        \"state_dim\": len(ll_discrete.reset())\n",
    "    }\n",
    "]\n",
    "\n",
    "envs_continuous = [\n",
    "    {\n",
    "        \"name\": mc_continuous_name,\n",
    "        \"actions_count\": len(mc_continuous.action_space.shape),\n",
    "        \"state_dim\": len(mc_continuous.reset())\n",
    "    },\n",
    "    {\n",
    "        \"name\": ll_continuous_name,\n",
    "        \"actions_count\": len(ll_continuous.action_space.shape) + 1,\n",
    "        \"state_dim\": len(ll_continuous.reset())\n",
    "    }\n",
    "]\n"
   ]
  },
  {
   "cell_type": "markdown",
   "metadata": {},
   "source": [
    "# Define tests"
   ]
  },
  {
   "cell_type": "code",
   "execution_count": 3,
   "metadata": {},
   "outputs": [],
   "source": [
    "test_params = {\n",
    "    \"episodes\": 5000,\n",
    "    \"number_of_parallel_envs\": 20,\n",
    "    \"steps_in_env\": 10,\n",
    "    \"learning_rate\": 0.0001,\n",
    "    \"number_of_models\": 2\n",
    " }\n",
    "\n",
    "tests = [\n",
    "    # *[{\n",
    "    #     \"name\": \"Benchmark Discrete A2C \" + \"(\" + envs_discrete[i][\"name\"] + \")\",\n",
    "    #     \"env\": envs_discrete[i],\n",
    "    #     \"network\": A2CDB(envs_discrete[i][\"state_dim\"], envs_discrete[i][\"actions_count\"]),\n",
    "    #     \"discrete\": True\n",
    "    # } for i in range(len(envs_discrete))],\n",
    "    # *[{\n",
    "    #     \"name\": \"Discrete A2C with 1 RBF without activation function\" + \"(\" + envs_discrete[i][\"name\"] + \")\",\n",
    "    #     \"env\": envs_discrete[i],\n",
    "    #     \"network\": A2CDRBF1NA(envs_discrete[i][\"state_dim\"], envs_discrete[i][\"actions_count\"]),\n",
    "    #     \"discrete\": True\n",
    "    # } for i in range(len(envs_discrete))],\n",
    "    # *[{\n",
    "    #     \"name\": \"Discrete A2C with 1 RBF with activation function\" + \"(\" + envs_discrete[i][\"name\"] + \")\",\n",
    "    #     \"env\": envs_discrete[i],\n",
    "    #     \"network\": A2CDRBF1A(envs_discrete[i][\"state_dim\"], envs_discrete[i][\"actions_count\"]),\n",
    "    #     \"discrete\": True\n",
    "    # } for i in range(len(envs_discrete))],\n",
    "\n",
    "    # *[{\n",
    "    #     \"name\": \"Benchmark Continuous A2C \" + \"(\" + envs_continuous[i][\"name\"] + \")\",\n",
    "    #     \"env\": envs_continuous[i],\n",
    "    #     \"network\": A2CCB(envs_continuous[i][\"state_dim\"], envs_continuous[i][\"actions_count\"]),\n",
    "    #     \"discrete\": False\n",
    "    # } for i in range(len(envs_continuous))],\n",
    "    # *[{\n",
    "    #     \"name\": \"Continuous A2C with 1 RBF without activation function\" + \"(\" + envs_continuous[i][\"name\"] + \")\",\n",
    "    #     \"env\": envs_continuous[i],\n",
    "    #     \"network\": A2CCRBF1NA(envs_continuous[i][\"state_dim\"], envs_continuous[i][\"actions_count\"]),\n",
    "    #     \"discrete\": False\n",
    "    # } for i in range(len(envs_continuous))],\n",
    "    # *[{\n",
    "    #     \"name\": \"Continuous A2C with 1 RBF with activation function\" + \"(\" + envs_continuous[i][\"name\"] + \")\",\n",
    "    #     \"env\": envs_continuous[i],\n",
    "    #     \"network\": A2CCRBF1A(envs_continuous[i][\"state_dim\"], envs_continuous[i][\"actions_count\"]),\n",
    "    #     \"discrete\": False\n",
    "    # } for i in range(len(envs_continuous))],\n",
    "    \n",
    "    # *[{\n",
    "    #     \"name\": \"Discrete A2C with small and pure RBF network\" + \"(\" + envs_discrete[i][\"name\"] + \")\",\n",
    "    #     \"env\": envs_discrete[i],\n",
    "    #     \"network\": A2CDRBF(envs_discrete[i][\"state_dim\"], envs_discrete[i][\"actions_count\"]),\n",
    "    #     \"discrete\": True\n",
    "    # } for i in range(len(envs_discrete))],\n",
    "    # *[{\n",
    "    #     \"name\": \"Continuous A2C with small and pure RBF network\" + \"(\" + envs_continuous[i][\"name\"] + \")\",\n",
    "    #     \"env\": envs_continuous[i],\n",
    "    #     \"network\": A2CCRBF(envs_continuous[i][\"state_dim\"], envs_continuous[i][\"actions_count\"]),\n",
    "    #     \"discrete\": False\n",
    "    # } for i in range(len(envs_continuous))],\n",
    "\n",
    "    *[{\n",
    "        \"name\": \"Continuous A2C with small and Linear network\" + \"(\" + envs_continuous[0][\"name\"] + \")\",\n",
    "        \"env\": envs_continuous[0],\n",
    "        \"network\": A2CCB(envs_continuous[0][\"state_dim\"], envs_continuous[0][\"actions_count\"], shared_layers=2),\n",
    "        \"discrete\": False\n",
    "    } for i in range(1)], #len(envs_continuous))],\n",
    "]\n"
   ]
  },
  {
   "cell_type": "markdown",
   "metadata": {},
   "source": [
    "# A2C training"
   ]
  },
  {
   "cell_type": "code",
   "execution_count": 4,
   "metadata": {},
   "outputs": [
    {
     "data": {
      "text/html": [
       "\n",
       "      <iframe id=\"tensorboard-frame-8d91caef886103b3\" width=\"100%\" height=\"800\" frameborder=\"0\">\n",
       "      </iframe>\n",
       "      <script>\n",
       "        (function() {\n",
       "          const frame = document.getElementById(\"tensorboard-frame-8d91caef886103b3\");\n",
       "          const url = new URL(\"/\", window.location);\n",
       "          const port = 17000;\n",
       "          if (port) {\n",
       "            url.port = port;\n",
       "          }\n",
       "          frame.src = url;\n",
       "        })();\n",
       "      </script>\n",
       "    "
      ],
      "text/plain": [
       "<IPython.core.display.HTML object>"
      ]
     },
     "metadata": {},
     "output_type": "display_data"
    }
   ],
   "source": [
    "%reload_ext tensorboard\n",
    "%tensorboard --logdir runs --host localhost --port 17000"
   ]
  },
  {
   "cell_type": "code",
   "execution_count": 5,
   "metadata": {},
   "outputs": [
    {
     "name": "stdout",
     "output_type": "stream",
     "text": [
      "Device:  cuda \n",
      "Tensor:  <class 'torch.cuda.FloatTensor'>\n",
      "Training: Continuous A2C with small and Linear network(MountainCarContinuous-v0) | version: 0\n"
     ]
    },
    {
     "data": {
      "application/vnd.jupyter.widget-view+json": {
       "model_id": "ac0668ad02124cc19a68ee2f5782b6c8",
       "version_major": 2,
       "version_minor": 0
      },
      "text/plain": [
       "Episodes:   0%|          | 0/5000 [00:00<?, ?it/s]"
      ]
     },
     "metadata": {},
     "output_type": "display_data"
    },
    {
     "name": "stdout",
     "output_type": "stream",
     "text": [
      "Saving model, best score is:  -47.61904761904762\n",
      "Saving model, best score is:  -40.35952805677625\n",
      "Saving model, best score is:  -30.420474134130238\n",
      "Saving model, best score is:  -23.432939932726846\n",
      "Saving model, best score is:  -9.088141914824023\n",
      "Saving model, best score is:  -2.647852122498813\n",
      "Saving model, best score is:  -0.6803567085871174\n",
      "Saving model, best score is:  -0.29429977922044154\n",
      "Saving model, best score is:  -0.21736473427664688\n",
      "Saving model, best score is:  -0.1932078273476366\n",
      "Saving model, best score is:  -0.17787818987291473\n",
      "Saving model, best score is:  -0.16011330952949276\n",
      "Saving model, best score is:  -0.15109215133037066\n",
      "Saving model, best score is:  -0.14422605039158226\n",
      "Saving model, best score is:  -0.13968603024363277\n",
      "Saving model, best score is:  -0.13909775370758654\n",
      "Saving model, best score is:  -0.13668548971543343\n",
      "Saving model, best score is:  -0.12654734509175425\n",
      "Saving model, best score is:  -0.12539994163203158\n",
      "Saving model, best score is:  -0.12219713782097283\n",
      "Saving model, best score is:  -0.1196146086138726\n",
      "Device:  cuda \n",
      "Tensor:  <class 'torch.cuda.FloatTensor'>\n",
      "Training: Continuous A2C with small and Linear network(MountainCarContinuous-v0) | version: 1\n"
     ]
    },
    {
     "data": {
      "application/vnd.jupyter.widget-view+json": {
       "model_id": "d103fd23d35a4e10abd615389c982aab",
       "version_major": 2,
       "version_minor": 0
      },
      "text/plain": [
       "Episodes:   0%|          | 0/5000 [00:00<?, ?it/s]"
      ]
     },
     "metadata": {},
     "output_type": "display_data"
    },
    {
     "name": "stdout",
     "output_type": "stream",
     "text": [
      "Saving model, best score is:  -47.61904761904762\n",
      "Saving model, best score is:  -24.445693812772454\n",
      "Saving model, best score is:  -16.475691995588257\n",
      "Saving model, best score is:  -12.442378115320306\n",
      "Saving model, best score is:  -0.10310640042348615\n"
     ]
    },
    {
     "ename": "KeyboardInterrupt",
     "evalue": "",
     "output_type": "error",
     "traceback": [
      "\u001b[1;31m---------------------------------------------------------------------------\u001b[0m",
      "\u001b[1;31mKeyboardInterrupt\u001b[0m                         Traceback (most recent call last)",
      "\u001b[1;32m~\\AppData\\Local\\Temp/ipykernel_13508/970920768.py\u001b[0m in \u001b[0;36m<module>\u001b[1;34m\u001b[0m\n\u001b[0;32m     15\u001b[0m \u001b[1;33m\u001b[0m\u001b[0m\n\u001b[0;32m     16\u001b[0m         \u001b[0mprint\u001b[0m\u001b[1;33m(\u001b[0m\u001b[1;34m\"Training: \"\u001b[0m \u001b[1;33m+\u001b[0m \u001b[0mtest\u001b[0m\u001b[1;33m[\u001b[0m\u001b[1;34m\"name\"\u001b[0m\u001b[1;33m]\u001b[0m \u001b[1;33m+\u001b[0m \u001b[1;34m\" | version: \"\u001b[0m \u001b[1;33m+\u001b[0m \u001b[0mstr\u001b[0m\u001b[1;33m(\u001b[0m\u001b[0mversion\u001b[0m\u001b[1;33m)\u001b[0m\u001b[1;33m)\u001b[0m\u001b[1;33m\u001b[0m\u001b[1;33m\u001b[0m\u001b[0m\n\u001b[1;32m---> 17\u001b[1;33m         \u001b[0magent\u001b[0m\u001b[1;33m.\u001b[0m\u001b[0mtrain\u001b[0m\u001b[1;33m(\u001b[0m\u001b[0menvs\u001b[0m\u001b[1;33m=\u001b[0m\u001b[0mtrain_envs\u001b[0m\u001b[1;33m,\u001b[0m \u001b[0mtotal_episodes\u001b[0m\u001b[1;33m=\u001b[0m\u001b[0mtest_params\u001b[0m\u001b[1;33m[\u001b[0m\u001b[1;34m\"episodes\"\u001b[0m\u001b[1;33m]\u001b[0m\u001b[1;33m,\u001b[0m \u001b[0msteps\u001b[0m\u001b[1;33m=\u001b[0m\u001b[0mtest_params\u001b[0m\u001b[1;33m[\u001b[0m\u001b[1;34m\"steps_in_env\"\u001b[0m\u001b[1;33m]\u001b[0m\u001b[1;33m)\u001b[0m\u001b[1;33m\u001b[0m\u001b[1;33m\u001b[0m\u001b[0m\n\u001b[0m",
      "\u001b[1;32md:\\dev\\PROJECTS\\HVI semestralka\\A2C\\a2c_discrete.py\u001b[0m in \u001b[0;36mtrain\u001b[1;34m(self, envs, total_episodes, steps, write)\u001b[0m\n\u001b[0;32m    149\u001b[0m                 step_actions, iter_actor_log_probs[step], iter_critic_values[step], iter_entropies[step] = self._agent_step(\n\u001b[0;32m    150\u001b[0m                     observations)\n\u001b[1;32m--> 151\u001b[1;33m                 observations, iter_rewards[step], iter_not_terminated[step] = self._env_step(\n\u001b[0m\u001b[0;32m    152\u001b[0m                     workers, step_actions, tqdm_bar)\n\u001b[0;32m    153\u001b[0m \u001b[1;33m\u001b[0m\u001b[0m\n",
      "\u001b[1;32md:\\dev\\PROJECTS\\HVI semestralka\\A2C\\a2c_discrete.py\u001b[0m in \u001b[0;36m_env_step\u001b[1;34m(self, workers, actions, tqdm_bar)\u001b[0m\n\u001b[0;32m     58\u001b[0m             \u001b[1;31m# Apply actions to workers enviroments\u001b[0m\u001b[1;33m\u001b[0m\u001b[1;33m\u001b[0m\u001b[0m\n\u001b[0;32m     59\u001b[0m             worker_observation, step_rewards[id_w, 0], worker_terminated = workers[id_w].step(\n\u001b[1;32m---> 60\u001b[1;33m                 self._extract_action(actions[id_w]))\n\u001b[0m\u001b[0;32m     61\u001b[0m \u001b[1;33m\u001b[0m\u001b[0m\n\u001b[0;32m     62\u001b[0m             \u001b[1;31m# reset terminated workers\u001b[0m\u001b[1;33m\u001b[0m\u001b[1;33m\u001b[0m\u001b[0m\n",
      "\u001b[1;32md:\\dev\\PROJECTS\\HVI semestralka\\A2C\\a2c_continuos.py\u001b[0m in \u001b[0;36m_extract_action\u001b[1;34m(self, x)\u001b[0m\n\u001b[0;32m     32\u001b[0m     \u001b[1;32mdef\u001b[0m \u001b[0m_extract_action\u001b[0m\u001b[1;33m(\u001b[0m\u001b[0mself\u001b[0m\u001b[1;33m,\u001b[0m \u001b[0mx\u001b[0m\u001b[1;33m)\u001b[0m\u001b[1;33m:\u001b[0m\u001b[1;33m\u001b[0m\u001b[1;33m\u001b[0m\u001b[0m\n\u001b[0;32m     33\u001b[0m         \u001b[1;31m# Continuous environment requires an array of values instead of a single value like discrete env\u001b[0m\u001b[1;33m\u001b[0m\u001b[1;33m\u001b[0m\u001b[0m\n\u001b[1;32m---> 34\u001b[1;33m         \u001b[1;32mreturn\u001b[0m \u001b[0mx\u001b[0m\u001b[1;33m.\u001b[0m\u001b[0mdetach\u001b[0m\u001b[1;33m(\u001b[0m\u001b[1;33m)\u001b[0m\u001b[1;33m.\u001b[0m\u001b[0mcpu\u001b[0m\u001b[1;33m(\u001b[0m\u001b[1;33m)\u001b[0m\u001b[1;33m.\u001b[0m\u001b[0mnumpy\u001b[0m\u001b[1;33m(\u001b[0m\u001b[1;33m)\u001b[0m\u001b[1;33m\u001b[0m\u001b[1;33m\u001b[0m\u001b[0m\n\u001b[0m\u001b[0;32m     35\u001b[0m \u001b[1;33m\u001b[0m\u001b[0m\n\u001b[0;32m     36\u001b[0m     \u001b[1;32mdef\u001b[0m \u001b[0m_agent_step\u001b[0m\u001b[1;33m(\u001b[0m\u001b[0mself\u001b[0m\u001b[1;33m,\u001b[0m \u001b[0mobservations\u001b[0m\u001b[1;33m)\u001b[0m\u001b[1;33m:\u001b[0m\u001b[1;33m\u001b[0m\u001b[1;33m\u001b[0m\u001b[0m\n",
      "\u001b[1;31mKeyboardInterrupt\u001b[0m: "
     ]
    }
   ],
   "source": [
    "for test in tests:\n",
    "    for version in range(test_params[\"number_of_models\"]):\n",
    "        agent = None\n",
    "        if test[\"discrete\"]:\n",
    "            agent = DiscreteA2C(model_name=test[\"name\"], id=version, model=test[\"network\"], lr=test_params[\"learning_rate\"])\n",
    "        else:\n",
    "            agent = ContinuousA2C(model_name=test[\"name\"], id=version, model=test[\"network\"], lr=test_params[\"learning_rate\"])\n",
    "        \n",
    "        # Create environments\n",
    "        train_envs = []\n",
    "        for id_e in range(test_params[\"number_of_parallel_envs\"]):\n",
    "            env = gym.make(test[\"env\"][\"name\"])\n",
    "            env.seed(id_e)\n",
    "            train_envs.append(env)\n",
    "    \n",
    "        print(\"Training: \" + test[\"name\"] + \" | version: \" + str(version))\n",
    "        agent.train(envs=train_envs, total_episodes=test_params[\"episodes\"], steps=test_params[\"steps_in_env\"])\n"
   ]
  }
 ],
 "metadata": {
  "interpreter": {
   "hash": "57c3aebcd5e1e99d1a9474ded8cb88a20ae7577c393a0a831db5f19309df275b"
  },
  "kernelspec": {
   "display_name": "Python 3.9.7 ('Mine')",
   "language": "python",
   "name": "python3"
  },
  "language_info": {
   "codemirror_mode": {
    "name": "ipython",
    "version": 3
   },
   "file_extension": ".py",
   "mimetype": "text/x-python",
   "name": "python",
   "nbconvert_exporter": "python",
   "pygments_lexer": "ipython3",
   "version": "3.9.7"
  },
  "orig_nbformat": 4
 },
 "nbformat": 4,
 "nbformat_minor": 2
}
