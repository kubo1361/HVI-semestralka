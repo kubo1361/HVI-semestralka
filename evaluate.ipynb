{
 "cells": [
  {
   "cell_type": "code",
   "execution_count": null,
   "metadata": {},
   "outputs": [],
   "source": [
    "\"\"\"\n",
    "import random\n",
    "obs = envs[\"lld\"][\"env\"].reset()\n",
    "while(True):\n",
    "    envs[\"lld\"][\"env\"].render( mode='human')\n",
    "    actor_prob, _ = a2c_agent.act(obs)\n",
    "    step_probs = F.softmax(actor_prob, dim=-1)\n",
    "    step_actions = step_probs.multinomial(num_samples=1)\n",
    "    obs, _, term, _ = envs[\"lld\"][\"env\"].step(step_actions.item()) # random.randrange(0, envs[\"lld\"][\"actions_count\"])) \n",
    "\n",
    "    if term:\n",
    "        obs = envs[\"lld\"][\"env\"].reset()\n",
    "        \n",
    "    if keyboard.is_pressed('Tab'):  \n",
    "        break \n",
    "    \n",
    "envs[\"lld\"][\"env\"].close()\n",
    "\"\"\""
   ]
  }
 ],
 "metadata": {
  "language_info": {
   "name": "python"
  },
  "orig_nbformat": 4
 },
 "nbformat": 4,
 "nbformat_minor": 2
}
